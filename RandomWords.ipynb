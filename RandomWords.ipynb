{
 "metadata": {
  "name": "",
  "signature": "sha256:20aab143a21cad988443e0275523413ae158388c6b47af68fd7c2ec637b55d10"
 },
 "nbformat": 3,
 "nbformat_minor": 0,
 "worksheets": [
  {
   "cells": [
    {
     "cell_type": "markdown",
     "metadata": {},
     "source": [
      "# Random Words"
     ]
    },
    {
     "cell_type": "code",
     "collapsed": false,
     "input": [
      "import random"
     ],
     "language": "python",
     "metadata": {},
     "outputs": []
    },
    {
     "cell_type": "code",
     "collapsed": false,
     "input": [
      "class RandomWords:\n",
      "    path=\"/Users/skl/oditorium/sync/REPOES/english-words\"\n",
      "    fn = \"words2.txt\"\n",
      "    fn = \"words.txt\"\n",
      "    words_per_password = 3\n",
      "    \n",
      "    @property\n",
      "    def words(s):\n",
      "        with open(\"{}/{}\".format(s.path,s.fn)) as f:\n",
      "            words = map(lambda x: x.strip(), f.readlines())\n",
      "        return words\n",
      "        \n",
      "    def __call__(s, numpws):\n",
      "        words = tuple(s.words)\n",
      "        passwords = [\"\".join(random.choice(words).capitalize() for i in range(s.words_per_password)) for i in range(numpws)]\n",
      "        return passwords"
     ],
     "language": "python",
     "metadata": {},
     "outputs": []
    },
    {
     "cell_type": "code",
     "collapsed": false,
     "input": [
      "RandomWords()(10)"
     ],
     "language": "python",
     "metadata": {},
     "outputs": []
    },
    {
     "cell_type": "code",
     "collapsed": false,
     "input": [],
     "language": "python",
     "metadata": {},
     "outputs": []
    }
   ],
   "metadata": {}
  }
 ]
}